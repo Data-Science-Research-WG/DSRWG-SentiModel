{
 "cells": [
  {
   "cell_type": "markdown",
   "id": "a782ebcb",
   "metadata": {},
   "source": [
    "### Testing model accuracy against textblob and Vadersentiment"
   ]
  },
  {
   "cell_type": "markdown",
   "id": "8a8615e8",
   "metadata": {},
   "source": [
    "#### First test against amazon review test data"
   ]
  },
  {
   "cell_type": "code",
   "execution_count": 1,
   "id": "f86857c7",
   "metadata": {},
   "outputs": [],
   "source": [
    "from textblob import TextBlob\n",
    "import pandas as pd"
   ]
  },
  {
   "cell_type": "code",
   "execution_count": 2,
   "id": "47646d8c",
   "metadata": {},
   "outputs": [],
   "source": [
    "test_set = pd.read_csv(\"Data/amazon_review_polarity/test.csv\")"
   ]
  },
  {
   "cell_type": "code",
   "execution_count": 3,
   "id": "32115fb5",
   "metadata": {},
   "outputs": [],
   "source": [
    "test_set.columns = ['sentiment', 'title', 'review']"
   ]
  },
  {
   "cell_type": "code",
   "execution_count": 4,
   "id": "162875b8",
   "metadata": {},
   "outputs": [],
   "source": [
    "def recode(val):\n",
    "    if val == 1:\n",
    "        return 0\n",
    "    else:\n",
    "        return 1\n",
    "    \n",
    "def recode_s140(val):\n",
    "    if val == 4:\n",
    "        return 1\n",
    "    elif val == 0:\n",
    "        return 0"
   ]
  },
  {
   "cell_type": "code",
   "execution_count": 5,
   "id": "583ee9ca",
   "metadata": {},
   "outputs": [],
   "source": [
    "test_set['sentiment'] = test_set['sentiment'].apply(lambda x: recode(x))"
   ]
  },
  {
   "cell_type": "code",
   "execution_count": 6,
   "id": "bc905669",
   "metadata": {},
   "outputs": [],
   "source": [
    "sample_size = 4096*4\n",
    "sample = test_set.sample(sample_size)"
   ]
  },
  {
   "cell_type": "code",
   "execution_count": 7,
   "id": "e1b37272",
   "metadata": {},
   "outputs": [
    {
     "data": {
      "text/html": [
       "<div>\n",
       "<style scoped>\n",
       "    .dataframe tbody tr th:only-of-type {\n",
       "        vertical-align: middle;\n",
       "    }\n",
       "\n",
       "    .dataframe tbody tr th {\n",
       "        vertical-align: top;\n",
       "    }\n",
       "\n",
       "    .dataframe thead th {\n",
       "        text-align: right;\n",
       "    }\n",
       "</style>\n",
       "<table border=\"1\" class=\"dataframe\">\n",
       "  <thead>\n",
       "    <tr style=\"text-align: right;\">\n",
       "      <th></th>\n",
       "      <th>sentiment</th>\n",
       "      <th>title</th>\n",
       "      <th>review</th>\n",
       "    </tr>\n",
       "  </thead>\n",
       "  <tbody>\n",
       "    <tr>\n",
       "      <th>32566</th>\n",
       "      <td>0</td>\n",
       "      <td>no good for just 1 person</td>\n",
       "      <td>I got this as a gift, and while it looked real...</td>\n",
       "    </tr>\n",
       "    <tr>\n",
       "      <th>80457</th>\n",
       "      <td>0</td>\n",
       "      <td>Not soft/quality</td>\n",
       "      <td>This is not a typical \"Sateen\" product. It isn...</td>\n",
       "    </tr>\n",
       "    <tr>\n",
       "      <th>118976</th>\n",
       "      <td>1</td>\n",
       "      <td>Very impressed</td>\n",
       "      <td>I have to say I am very impressed with this bo...</td>\n",
       "    </tr>\n",
       "    <tr>\n",
       "      <th>267931</th>\n",
       "      <td>1</td>\n",
       "      <td>Stands up to beach side abuses.</td>\n",
       "      <td>After burning through a number of vacuums with...</td>\n",
       "    </tr>\n",
       "    <tr>\n",
       "      <th>87743</th>\n",
       "      <td>0</td>\n",
       "      <td>Traditional, old school, disappointing</td>\n",
       "      <td>What a disappointment. This book reads as if i...</td>\n",
       "    </tr>\n",
       "  </tbody>\n",
       "</table>\n",
       "</div>"
      ],
      "text/plain": [
       "        sentiment                                   title  \\\n",
       "32566           0               no good for just 1 person   \n",
       "80457           0                        Not soft/quality   \n",
       "118976          1                          Very impressed   \n",
       "267931          1         Stands up to beach side abuses.   \n",
       "87743           0  Traditional, old school, disappointing   \n",
       "\n",
       "                                                   review  \n",
       "32566   I got this as a gift, and while it looked real...  \n",
       "80457   This is not a typical \"Sateen\" product. It isn...  \n",
       "118976  I have to say I am very impressed with this bo...  \n",
       "267931  After burning through a number of vacuums with...  \n",
       "87743   What a disappointment. This book reads as if i...  "
      ]
     },
     "execution_count": 7,
     "metadata": {},
     "output_type": "execute_result"
    }
   ],
   "source": [
    "sample.head()"
   ]
  },
  {
   "cell_type": "code",
   "execution_count": 8,
   "id": "016de037",
   "metadata": {},
   "outputs": [],
   "source": [
    "sample['text_blob_polarity'] = sample['review'].apply(lambda x: TextBlob(x).polarity)"
   ]
  },
  {
   "cell_type": "code",
   "execution_count": 9,
   "id": "eecd59e3",
   "metadata": {},
   "outputs": [],
   "source": [
    "def zero_one(x):\n",
    "    return round((x + 1)/2)"
   ]
  },
  {
   "cell_type": "code",
   "execution_count": 10,
   "id": "68614b93",
   "metadata": {},
   "outputs": [],
   "source": [
    "sample['text_blob_polarity_round'] = sample['text_blob_polarity'].apply(lambda x: zero_one(x))"
   ]
  },
  {
   "cell_type": "code",
   "execution_count": 11,
   "id": "f096d076",
   "metadata": {},
   "outputs": [],
   "source": [
    "import numpy as np\n",
    "\n",
    "test_score = 0.0\n",
    "sentiments1 = np.array(sample['sentiment'])\n",
    "sentiments_pred = np.array(sample['text_blob_polarity_round'])"
   ]
  },
  {
   "cell_type": "code",
   "execution_count": 12,
   "id": "81322af1",
   "metadata": {},
   "outputs": [],
   "source": [
    "def test_score(target, pred):\n",
    "    num_correct = 0.0\n",
    "    observations = len(target)\n",
    "    for i in range(0, len(target)):\n",
    "        if target[i] == pred[i]:\n",
    "            num_correct += 1\n",
    "\n",
    "    final_score = num_correct/observations\n",
    "    return final_score"
   ]
  },
  {
   "cell_type": "code",
   "execution_count": 13,
   "id": "d3137a0b",
   "metadata": {},
   "outputs": [],
   "source": [
    "from vaderSentiment.vaderSentiment import SentimentIntensityAnalyzer"
   ]
  },
  {
   "cell_type": "code",
   "execution_count": 14,
   "id": "1f37f824",
   "metadata": {},
   "outputs": [],
   "source": [
    "# function to print sentiments\n",
    "# of the sentence.\n",
    "# Create a SentimentIntensityAnalyzer object.\n",
    "sid_obj = SentimentIntensityAnalyzer()\n",
    "def sentiment_polarity(sentence):\n",
    " \n",
    "    # polarity_scores method of SentimentIntensityAnalyzer\n",
    "    # object gives a sentiment dictionary.\n",
    "    # which contains pos, neg, neu, and compound scores.\n",
    "    sentiment_dict = sid_obj.polarity_scores(sentence)\n",
    "    return sentiment_dict['compound']"
   ]
  },
  {
   "cell_type": "code",
   "execution_count": 15,
   "id": "e99b3f5d",
   "metadata": {},
   "outputs": [],
   "source": [
    "sample['vader_polarity'] = sample['review'].apply(lambda x: sentiment_polarity(x))"
   ]
  },
  {
   "cell_type": "code",
   "execution_count": 16,
   "id": "58580484",
   "metadata": {},
   "outputs": [],
   "source": [
    "sample['vader_polarity_round'] = sample['vader_polarity'].apply(lambda x: zero_one(x))"
   ]
  },
  {
   "cell_type": "code",
   "execution_count": 17,
   "id": "19d951a4",
   "metadata": {},
   "outputs": [
    {
     "name": "stdout",
     "output_type": "stream",
     "text": [
      "CUDA is not available.  Training on CPU ...\n"
     ]
    }
   ],
   "source": [
    "import pandas as pd\n",
    "import numpy as np\n",
    "import torch\n",
    "%run DataPrep.ipynb\n",
    "%run models/SentimentCNN_model.ipynb\n",
    "%run TrainTestSentimentCNN.ipynb"
   ]
  },
  {
   "cell_type": "code",
   "execution_count": 18,
   "id": "bddb7767",
   "metadata": {},
   "outputs": [],
   "source": [
    "import json\n",
    "\n",
    "with open('Data/combined_data/combined_vocab_to_int.json', 'r') as vi:\n",
    "    vocab_to_int = json.load(vi)"
   ]
  },
  {
   "cell_type": "markdown",
   "id": "5d27c9ee",
   "metadata": {},
   "source": [
    "### Preprocessing amzon pol test data to feed model"
   ]
  },
  {
   "cell_type": "code",
   "execution_count": 19,
   "id": "b8f5328a",
   "metadata": {},
   "outputs": [],
   "source": [
    "# reviews_list = sample['review'].to_list()"
   ]
  },
  {
   "cell_type": "code",
   "execution_count": 20,
   "id": "a629e841",
   "metadata": {},
   "outputs": [],
   "source": [
    "# preprocessed_reviews_list = [preprocess(review) for review in reviews_list]"
   ]
  },
  {
   "cell_type": "code",
   "execution_count": 21,
   "id": "721894aa",
   "metadata": {},
   "outputs": [],
   "source": [
    "# # simple tokenization version - no lemmatization\n",
    "# tokenized_text = ' '.join(preprocessed_reviews_list).split()"
   ]
  },
  {
   "cell_type": "code",
   "execution_count": 25,
   "id": "2b3e45d2",
   "metadata": {},
   "outputs": [],
   "source": [
    "## Parameters\n",
    "# try:\n",
    "#     vocab_size = len(vocab_int) + 1 # for the 0 padding + our word tokens\n",
    "# except:\n",
    "#     vocab_size = vocab_size\n",
    "\n",
    "# batch_size = 4096\n",
    "vocab_size = 1559978\n",
    "embedding_size = 300\n",
    "seq_length = 70\n",
    "output_size = 1"
   ]
  },
  {
   "cell_type": "markdown",
   "id": "fbc46570",
   "metadata": {},
   "source": [
    "#### Bring in Model"
   ]
  },
  {
   "cell_type": "code",
   "execution_count": 26,
   "id": "6dcf15f6",
   "metadata": {},
   "outputs": [
    {
     "name": "stdout",
     "output_type": "stream",
     "text": [
      "SentimentCNN(\n",
      "  (embedding): Embedding(1559978, 300, padding_idx=0)\n",
      "  (conv1): Conv1d(70, 64, kernel_size=(3,), stride=(1,))\n",
      "  (conv2): Conv1d(64, 32, kernel_size=(3,), stride=(1,))\n",
      "  (pool1): MaxPool1d(kernel_size=3, stride=3, padding=0, dilation=1, ceil_mode=False)\n",
      "  (conv3): Conv1d(32, 16, kernel_size=(3,), stride=(1,))\n",
      "  (conv4): Conv1d(16, 8, kernel_size=(3,), stride=(1,))\n",
      "  (avgpool): AvgPool1d(kernel_size=(94,), stride=(94,), padding=(0,))\n",
      "  (dropout): Dropout(p=0.2, inplace=False)\n",
      "  (fc): Linear(in_features=8, out_features=1, bias=True)\n",
      "  (sig): Sigmoid()\n",
      ")\n"
     ]
    }
   ],
   "source": [
    "# change the batch_size parameter to 1 when predicting.\n",
    "\n",
    "model = SentimentCNN(vocab_size, output_size, embedding_size, 1, seq_length) # chan\n",
    "print(model)"
   ]
  },
  {
   "cell_type": "code",
   "execution_count": 27,
   "id": "25c2a20a",
   "metadata": {},
   "outputs": [
    {
     "data": {
      "text/plain": [
       "<All keys matched successfully>"
      ]
     },
     "execution_count": 27,
     "metadata": {},
     "output_type": "execute_result"
    }
   ],
   "source": [
    "# load the model with the trained parameters/weight that performed best in validation.\n",
    "model.load_state_dict(torch.load('Sentiment_CNN_combined.pt'))"
   ]
  },
  {
   "cell_type": "markdown",
   "id": "686fa97b",
   "metadata": {},
   "source": [
    "#### Testing scores on amazon pol dataset"
   ]
  },
  {
   "cell_type": "code",
   "execution_count": 102,
   "id": "f14937ce",
   "metadata": {},
   "outputs": [],
   "source": [
    "def predict_sentiment(model, new_texts, vocab_to_int, seq_length=40):\n",
    "    \"\"\"\n",
    "    Function that takes in text, preproceses and passes it to the model for forward pass.\n",
    "    Args: \n",
    "     - model to perform the inference\n",
    "     - input text\n",
    "     - word to integer mapping dict\n",
    "     - sequence length the text is padded to\n",
    "    :Returns a score of positive or negative.\"\"\"\n",
    "    \n",
    "    model.eval()\n",
    "    \n",
    "    # preprocess, tokenize and lemmatize review\n",
    "    new_texts = preprocess(new_texts)\n",
    "    new_texts_ints = word_to_int2(new_texts, vocab_to_int, token_lem=True)\n",
    "    \n",
    "    # pad tokenized sequence\n",
    "    features = np.zeros((seq_length), dtype=int)\n",
    "    if features.shape[0] >= len(new_texts_ints):\n",
    "        features[seq_length-len(new_texts_ints):] = np.array(new_texts_ints)[:seq_length]\n",
    "    else:\n",
    "        features[:] = np.array(new_texts_ints)[:seq_length]\n",
    "    \n",
    "    input_tensor = torch.from_numpy(features)\n",
    "    \n",
    "    # perform a forward pass from the model\n",
    "    output = model(input_tensor)\n",
    "\n",
    "    pred = output.detach().numpy()[0][0]\n",
    "    if pred >= 0.55:\n",
    "        return (\"positive, {:.4f}\".format(2*pred - 1))\n",
    "    elif pred < 0.45: \n",
    "        return (\"negative, {:.4f}\".format(2*pred - 1))\n",
    "    else:\n",
    "        return (\"neutral, 0.000\")"
   ]
  },
  {
   "cell_type": "code",
   "execution_count": 48,
   "id": "549a02ef",
   "metadata": {},
   "outputs": [],
   "source": [
    "def predict_class(model, new_texts, vocab_to_int, seq_length=40):\n",
    "    \"\"\"\n",
    "    Function that takes in text, preproceses and passes it to the model for forward pass.\n",
    "    Args: \n",
    "     - model to perform the inference\n",
    "     - input text\n",
    "     - word to integer mapping dict\n",
    "     - sequence length the text is padded to\n",
    "    :Returns a score of positive or negative.\"\"\"\n",
    "    \n",
    "    model.eval()\n",
    "    \n",
    "    # preprocess, tokenize and lemmatize review\n",
    "    new_texts = preprocess(new_texts)\n",
    "    new_texts_ints = word_to_int(new_texts, vocab_to_int, token_lem=True)\n",
    "    \n",
    "    # pad tokenized sequence\n",
    "    features = np.zeros((seq_length), dtype=int)\n",
    "    if features.shape[0] >= len(new_texts_ints):\n",
    "        features[seq_length-len(new_texts_ints):] = np.array(new_texts_ints)[:seq_length]\n",
    "    else:\n",
    "        features[:] = np.array(new_texts_ints)[:seq_length]\n",
    "    \n",
    "    input_tensor = torch.from_numpy(features)\n",
    "    \n",
    "    # perform a forward pass from the model\n",
    "    output = model(input_tensor)\n",
    "\n",
    "    pred = output.detach().numpy()[0][0]\n",
    "    if pred >= 0.5:\n",
    "        return 1\n",
    "    elif pred < 0.5: \n",
    "        return 0"
   ]
  },
  {
   "cell_type": "code",
   "execution_count": 30,
   "id": "0d5e871a",
   "metadata": {},
   "outputs": [],
   "source": [
    "t = 'wow, that was so wonderful at first, but I really hated the beginning'"
   ]
  },
  {
   "cell_type": "code",
   "execution_count": 31,
   "id": "158e540f",
   "metadata": {},
   "outputs": [],
   "source": [
    "def word_to_int2(input_text: iter, vocab_to_int: dict, token_lem=False) -> iter:\n",
    "    \"\"\"\n",
    "    A function to be used for encoding text to integers for prediction (assigning unknown words).\n",
    "    Return: list of integers representing words in text\n",
    "    \"\"\"\n",
    "    if token_lem == True:\n",
    "        standardised_text = tokenize_lemmatize(input_text)\n",
    "    else:\n",
    "        standardised_text = input_text.split()\n",
    "    # Convert words not in lookup to '<unk>'.\n",
    "    \n",
    "    word_ints = []\n",
    "    for ii, word in enumerate(standardised_text):\n",
    "        try:\n",
    "            word_ints.append(vocab_to_int[word])\n",
    "        except KeyError:\n",
    "            word_ints.append(1)\n",
    "        # assign the text integer values.   \n",
    "    return word_ints"
   ]
  },
  {
   "cell_type": "code",
   "execution_count": 33,
   "id": "08948338",
   "metadata": {},
   "outputs": [],
   "source": [
    "sample['model_pred'] = sample['review'].apply(lambda x: class_predict(model, x, vocab_to_int, seq_length=seq_length))"
   ]
  },
  {
   "cell_type": "code",
   "execution_count": 34,
   "id": "39264ae4",
   "metadata": {},
   "outputs": [
    {
     "name": "stdout",
     "output_type": "stream",
     "text": [
      "model acc score: 0.739\n",
      "Vader sentiment acc score: 0.695\n",
      "text blob acc score: 0.668\n"
     ]
    }
   ],
   "source": [
    "print(\"model acc score: {:.3f}\".format(test_score(sentiments1, sample['model_pred'].to_list())))\n",
    "print(\"Vader sentiment acc score: {:.3f}\".format(test_score(sentiments1, sample['vader_polarity_round'].to_list())))\n",
    "print(\"text blob acc score: {:.3f}\".format(test_score(sentiments1, sentiments_pred)))"
   ]
  },
  {
   "cell_type": "markdown",
   "id": "c0deafbd",
   "metadata": {},
   "source": [
    "### Testing on IMDB movies review dataset"
   ]
  },
  {
   "cell_type": "code",
   "execution_count": 36,
   "id": "56ff02f1",
   "metadata": {},
   "outputs": [],
   "source": [
    "test_set2 = pd.read_csv(\"Data/combined_IMDB_reviews_data.csv\").sample(sample_size)"
   ]
  },
  {
   "cell_type": "code",
   "execution_count": 37,
   "id": "160d8e1e",
   "metadata": {},
   "outputs": [],
   "source": [
    "test_set2['text_blob_polarity'] = test_set2['review'].apply(lambda x: TextBlob(x).polarity)\n",
    "test_set2['text_blob_polarity_round'] = test_set2['text_blob_polarity'].apply(lambda x: zero_one(x))"
   ]
  },
  {
   "cell_type": "code",
   "execution_count": 38,
   "id": "54e45a8d",
   "metadata": {},
   "outputs": [],
   "source": [
    "sentiments2 = np.array(test_set2['sentiment'])\n",
    "textblob_pred = np.array(test_set2['text_blob_polarity_round'])"
   ]
  },
  {
   "cell_type": "code",
   "execution_count": 39,
   "id": "25f81a06",
   "metadata": {},
   "outputs": [],
   "source": [
    "test_set2['vader_polarity'] = test_set2['review'].apply(lambda x: sentiment_polarity(x))\n",
    "test_set2['vader_polarity_round'] = test_set2['vader_polarity'].apply(lambda x: zero_one(x))"
   ]
  },
  {
   "cell_type": "code",
   "execution_count": 40,
   "id": "a37862a7",
   "metadata": {},
   "outputs": [],
   "source": [
    "test_set2['model_pred'] = test_set2['review'].apply(lambda x: class_predict(model, x, vocab_to_int, seq_length=seq_length))"
   ]
  },
  {
   "cell_type": "code",
   "execution_count": 41,
   "id": "d010efc7",
   "metadata": {},
   "outputs": [
    {
     "name": "stdout",
     "output_type": "stream",
     "text": [
      "model acc score: 0.731\n",
      "Vader sentiment acc score: 0.697\n",
      "text blob final score: 0.690\n"
     ]
    }
   ],
   "source": [
    "print(\"model acc score: {:.3f}\".format(test_score(sentiments2, test_set2['model_pred'].to_list())))\n",
    "print(\"Vader sentiment acc score: {:.3f}\".format(test_score(sentiments2, test_set2['vader_polarity_round'].to_list())))\n",
    "print(\"text blob final score: {:.3f}\".format(test_score(sentiments2, textblob_pred)))"
   ]
  },
  {
   "cell_type": "markdown",
   "id": "03731234",
   "metadata": {},
   "source": [
    "### Test on Watson Chatbot Data"
   ]
  },
  {
   "cell_type": "code",
   "execution_count": 112,
   "id": "9920dc37",
   "metadata": {},
   "outputs": [],
   "source": [
    "chatbot_data = pd.read_csv(\"Data/watson_output_combined.csv\")"
   ]
  },
  {
   "cell_type": "code",
   "execution_count": 113,
   "id": "93f12256",
   "metadata": {},
   "outputs": [],
   "source": [
    "def chatbot_model_pred(x: str, pred_model):\n",
    "    tokenized = x.split()\n",
    "    models = ['cnn', 'vader', 'textblob']\n",
    "    \n",
    "    if len(tokenized) < 2 or '?' in x:\n",
    "        pass\n",
    "    else:\n",
    "        if pred_model == models[0]:\n",
    "            return predict_sentiment(model, x, vocab_to_int, seq_length=seq_length)\n",
    "        elif pred_model == models[1]:\n",
    "            return sid_obj.polarity_scores(x)\n",
    "        elif pred_model == models[2]:\n",
    "            return text_blob_pred(x)\n",
    "        else:\n",
    "            print(\"Assign the correct model\")\n",
    "            raise ValueError\n",
    "        "
   ]
  },
  {
   "cell_type": "code",
   "execution_count": 114,
   "id": "4ca913b9",
   "metadata": {},
   "outputs": [],
   "source": [
    "def chatbot_hybrid_pred(x: str):\n",
    "    tokenized = x.split()\n",
    "    \n",
    "    if len(tokenized) < 2:\n",
    "        pass\n",
    "    else:\n",
    "        if '?' in x:\n",
    "            return sid_obj.polarity_scores(x)\n",
    "        else:\n",
    "            return predict_sentiment(model, x, vocab_to_int, seq_length=seq_length)"
   ]
  },
  {
   "cell_type": "code",
   "execution_count": 115,
   "id": "f5a55e6c",
   "metadata": {},
   "outputs": [],
   "source": [
    "chatbot_data = chatbot_data.drop(labels=['Unnamed: 0'], axis=1)"
   ]
  },
  {
   "cell_type": "code",
   "execution_count": 116,
   "id": "f83ef1f5",
   "metadata": {},
   "outputs": [],
   "source": [
    "chatbot_data['hybrid_pred'] = chatbot_data['User Input'].apply(lambda x: chatbot_hybrid_pred(x))"
   ]
  },
  {
   "cell_type": "code",
   "execution_count": 117,
   "id": "1ecdc6e8",
   "metadata": {},
   "outputs": [
    {
     "data": {
      "text/html": [
       "<div>\n",
       "<style scoped>\n",
       "    .dataframe tbody tr th:only-of-type {\n",
       "        vertical-align: middle;\n",
       "    }\n",
       "\n",
       "    .dataframe tbody tr th {\n",
       "        vertical-align: top;\n",
       "    }\n",
       "\n",
       "    .dataframe thead th {\n",
       "        text-align: right;\n",
       "    }\n",
       "</style>\n",
       "<table border=\"1\" class=\"dataframe\">\n",
       "  <thead>\n",
       "    <tr style=\"text-align: right;\">\n",
       "      <th></th>\n",
       "      <th>conversation_id</th>\n",
       "      <th>request_timestamp</th>\n",
       "      <th>response_timestamp</th>\n",
       "      <th>User Input</th>\n",
       "      <th>Output</th>\n",
       "      <th>Intent</th>\n",
       "      <th>Confidence</th>\n",
       "      <th>Exit Reason</th>\n",
       "      <th>Logging</th>\n",
       "      <th>Context</th>\n",
       "      <th>hybrid_pred</th>\n",
       "    </tr>\n",
       "  </thead>\n",
       "  <tbody>\n",
       "    <tr>\n",
       "      <th>0</th>\n",
       "      <td>04aa7771-37ba-4e8d-a993-336899cc1ede</td>\n",
       "      <td>2021-07-07 18:33:47+00:00</td>\n",
       "      <td>2021-07-07 18:33:49.552000+00:00</td>\n",
       "      <td>what are the store's opening hours?</td>\n",
       "      <td>Our hours are Monday to Friday 10am to 8pm and...</td>\n",
       "      <td>Customer_Care_Store_Hours</td>\n",
       "      <td>0.992556</td>\n",
       "      <td>completed</td>\n",
       "      <td>NaN</td>\n",
       "      <td>{\"system\": {\"dialog_turn_counter\": 1, \"dialog_...</td>\n",
       "      <td>{'neg': 0.0, 'neu': 1.0, 'pos': 0.0, 'compound...</td>\n",
       "    </tr>\n",
       "    <tr>\n",
       "      <th>1</th>\n",
       "      <td>04aa7771-37ba-4e8d-a993-336899cc1ede</td>\n",
       "      <td>2021-07-07 18:34:02.029000+00:00</td>\n",
       "      <td>2021-07-07 18:34:02.106000+00:00</td>\n",
       "      <td>what are the store's opening hours?</td>\n",
       "      <td>I can tell you about our store locations and o...</td>\n",
       "      <td>Help</td>\n",
       "      <td>1.000000</td>\n",
       "      <td>completed</td>\n",
       "      <td>NaN</td>\n",
       "      <td>{\"system\": {\"session_id\": \"04aa7771-37ba-4e8d-...</td>\n",
       "      <td>{'neg': 0.0, 'neu': 1.0, 'pos': 0.0, 'compound...</td>\n",
       "    </tr>\n",
       "    <tr>\n",
       "      <th>2</th>\n",
       "      <td>04aa7771-37ba-4e8d-a993-336899cc1ede</td>\n",
       "      <td>2021-07-07 18:34:27.870000+00:00</td>\n",
       "      <td>2021-07-07 18:34:28.004000+00:00</td>\n",
       "      <td>my delivery is late</td>\n",
       "      <td>Our hours are Monday to Friday 10am to 8pm and...</td>\n",
       "      <td>Customer_Care_Store_Hours</td>\n",
       "      <td>0.220531</td>\n",
       "      <td>completed</td>\n",
       "      <td>NaN</td>\n",
       "      <td>{\"system\": {\"session_id\": \"04aa7771-37ba-4e8d-...</td>\n",
       "      <td>negative, -0.4695</td>\n",
       "    </tr>\n",
       "    <tr>\n",
       "      <th>3</th>\n",
       "      <td>04aa7771-37ba-4e8d-a993-336899cc1ede</td>\n",
       "      <td>2021-07-07 18:34:38.932000+00:00</td>\n",
       "      <td>2021-07-07 18:34:39.076000+00:00</td>\n",
       "      <td>I want to cancel my order</td>\n",
       "      <td>I didn't understand can you try again</td>\n",
       "      <td>Cancel</td>\n",
       "      <td>0.545665</td>\n",
       "      <td>completed</td>\n",
       "      <td>NaN</td>\n",
       "      <td>{\"system\": {\"session_id\": \"04aa7771-37ba-4e8d-...</td>\n",
       "      <td>negative, -0.9401</td>\n",
       "    </tr>\n",
       "    <tr>\n",
       "      <th>4</th>\n",
       "      <td>04aa7771-37ba-4e8d-a993-336899cc1ede</td>\n",
       "      <td>2021-07-07 18:34:45.975000+00:00</td>\n",
       "      <td>2021-07-07 18:34:46.051000+00:00</td>\n",
       "      <td>Connect to agent</td>\n",
       "      <td>Would you like me to transfer you to a represe...</td>\n",
       "      <td>General_Connect_to_Agent</td>\n",
       "      <td>0.983706</td>\n",
       "      <td>NaN</td>\n",
       "      <td>NaN</td>\n",
       "      <td>{\"system\": {\"session_id\": \"04aa7771-37ba-4e8d-...</td>\n",
       "      <td>negative, -0.2726</td>\n",
       "    </tr>\n",
       "  </tbody>\n",
       "</table>\n",
       "</div>"
      ],
      "text/plain": [
       "                        conversation_id                 request_timestamp  \\\n",
       "0  04aa7771-37ba-4e8d-a993-336899cc1ede         2021-07-07 18:33:47+00:00   \n",
       "1  04aa7771-37ba-4e8d-a993-336899cc1ede  2021-07-07 18:34:02.029000+00:00   \n",
       "2  04aa7771-37ba-4e8d-a993-336899cc1ede  2021-07-07 18:34:27.870000+00:00   \n",
       "3  04aa7771-37ba-4e8d-a993-336899cc1ede  2021-07-07 18:34:38.932000+00:00   \n",
       "4  04aa7771-37ba-4e8d-a993-336899cc1ede  2021-07-07 18:34:45.975000+00:00   \n",
       "\n",
       "                 response_timestamp                           User Input  \\\n",
       "0  2021-07-07 18:33:49.552000+00:00  what are the store's opening hours?   \n",
       "1  2021-07-07 18:34:02.106000+00:00  what are the store's opening hours?   \n",
       "2  2021-07-07 18:34:28.004000+00:00                  my delivery is late   \n",
       "3  2021-07-07 18:34:39.076000+00:00            I want to cancel my order   \n",
       "4  2021-07-07 18:34:46.051000+00:00                     Connect to agent   \n",
       "\n",
       "                                              Output  \\\n",
       "0  Our hours are Monday to Friday 10am to 8pm and...   \n",
       "1  I can tell you about our store locations and o...   \n",
       "2  Our hours are Monday to Friday 10am to 8pm and...   \n",
       "3              I didn't understand can you try again   \n",
       "4  Would you like me to transfer you to a represe...   \n",
       "\n",
       "                      Intent  Confidence Exit Reason  Logging  \\\n",
       "0  Customer_Care_Store_Hours    0.992556   completed      NaN   \n",
       "1                       Help    1.000000   completed      NaN   \n",
       "2  Customer_Care_Store_Hours    0.220531   completed      NaN   \n",
       "3                     Cancel    0.545665   completed      NaN   \n",
       "4   General_Connect_to_Agent    0.983706         NaN      NaN   \n",
       "\n",
       "                                             Context  \\\n",
       "0  {\"system\": {\"dialog_turn_counter\": 1, \"dialog_...   \n",
       "1  {\"system\": {\"session_id\": \"04aa7771-37ba-4e8d-...   \n",
       "2  {\"system\": {\"session_id\": \"04aa7771-37ba-4e8d-...   \n",
       "3  {\"system\": {\"session_id\": \"04aa7771-37ba-4e8d-...   \n",
       "4  {\"system\": {\"session_id\": \"04aa7771-37ba-4e8d-...   \n",
       "\n",
       "                                         hybrid_pred  \n",
       "0  {'neg': 0.0, 'neu': 1.0, 'pos': 0.0, 'compound...  \n",
       "1  {'neg': 0.0, 'neu': 1.0, 'pos': 0.0, 'compound...  \n",
       "2                                  negative, -0.4695  \n",
       "3                                  negative, -0.9401  \n",
       "4                                  negative, -0.2726  "
      ]
     },
     "execution_count": 117,
     "metadata": {},
     "output_type": "execute_result"
    }
   ],
   "source": [
    "chatbot_data.head()"
   ]
  },
  {
   "cell_type": "code",
   "execution_count": 105,
   "id": "d9fceea3",
   "metadata": {},
   "outputs": [],
   "source": [
    "chatbot_data['vader_pred'] = chatbot_data['User Input'].apply(lambda x: chatbot_model_pred(x, 'vader')) "
   ]
  },
  {
   "cell_type": "code",
   "execution_count": 106,
   "id": "8a09825a",
   "metadata": {},
   "outputs": [],
   "source": [
    "def text_blob_pred(x):\n",
    "    \"\"\" \"\"\"\n",
    "    polarity_score = TextBlob(x).polarity\n",
    "    if polarity_score > 0.1:\n",
    "        return (\"positive, {:.4f}\".format(polarity_score))\n",
    "    elif polarity_score < -0.1:\n",
    "        return (\"negative, {:.4f}\".format(polarity_score))\n",
    "    else:\n",
    "        return (\"neutral, {:.4f}\".format(polarity_score))"
   ]
  },
  {
   "cell_type": "code",
   "execution_count": 107,
   "id": "a52e6581",
   "metadata": {},
   "outputs": [],
   "source": [
    "chatbot_data['textblob_pred'] = chatbot_data['User Input'].apply(lambda x: chatbot_model_pred(x, 'textblob'))"
   ]
  },
  {
   "cell_type": "code",
   "execution_count": 108,
   "id": "2d975663",
   "metadata": {},
   "outputs": [
    {
     "data": {
      "text/html": [
       "<div>\n",
       "<style scoped>\n",
       "    .dataframe tbody tr th:only-of-type {\n",
       "        vertical-align: middle;\n",
       "    }\n",
       "\n",
       "    .dataframe tbody tr th {\n",
       "        vertical-align: top;\n",
       "    }\n",
       "\n",
       "    .dataframe thead th {\n",
       "        text-align: right;\n",
       "    }\n",
       "</style>\n",
       "<table border=\"1\" class=\"dataframe\">\n",
       "  <thead>\n",
       "    <tr style=\"text-align: right;\">\n",
       "      <th></th>\n",
       "      <th>conversation_id</th>\n",
       "      <th>request_timestamp</th>\n",
       "      <th>response_timestamp</th>\n",
       "      <th>User Input</th>\n",
       "      <th>Output</th>\n",
       "      <th>Intent</th>\n",
       "      <th>Confidence</th>\n",
       "      <th>Exit Reason</th>\n",
       "      <th>Logging</th>\n",
       "      <th>Context</th>\n",
       "      <th>model_pred</th>\n",
       "      <th>vader_pred</th>\n",
       "      <th>textblob_pred</th>\n",
       "    </tr>\n",
       "  </thead>\n",
       "  <tbody>\n",
       "    <tr>\n",
       "      <th>0</th>\n",
       "      <td>04aa7771-37ba-4e8d-a993-336899cc1ede</td>\n",
       "      <td>2021-07-07 18:33:47+00:00</td>\n",
       "      <td>2021-07-07 18:33:49.552000+00:00</td>\n",
       "      <td>what are the store's opening hours?</td>\n",
       "      <td>Our hours are Monday to Friday 10am to 8pm and...</td>\n",
       "      <td>Customer_Care_Store_Hours</td>\n",
       "      <td>0.992556</td>\n",
       "      <td>completed</td>\n",
       "      <td>NaN</td>\n",
       "      <td>{\"system\": {\"dialog_turn_counter\": 1, \"dialog_...</td>\n",
       "      <td>None</td>\n",
       "      <td>None</td>\n",
       "      <td>None</td>\n",
       "    </tr>\n",
       "    <tr>\n",
       "      <th>1</th>\n",
       "      <td>04aa7771-37ba-4e8d-a993-336899cc1ede</td>\n",
       "      <td>2021-07-07 18:34:02.029000+00:00</td>\n",
       "      <td>2021-07-07 18:34:02.106000+00:00</td>\n",
       "      <td>what are the store's opening hours?</td>\n",
       "      <td>I can tell you about our store locations and o...</td>\n",
       "      <td>Help</td>\n",
       "      <td>1.000000</td>\n",
       "      <td>completed</td>\n",
       "      <td>NaN</td>\n",
       "      <td>{\"system\": {\"session_id\": \"04aa7771-37ba-4e8d-...</td>\n",
       "      <td>None</td>\n",
       "      <td>None</td>\n",
       "      <td>None</td>\n",
       "    </tr>\n",
       "    <tr>\n",
       "      <th>2</th>\n",
       "      <td>04aa7771-37ba-4e8d-a993-336899cc1ede</td>\n",
       "      <td>2021-07-07 18:34:27.870000+00:00</td>\n",
       "      <td>2021-07-07 18:34:28.004000+00:00</td>\n",
       "      <td>my delivery is late</td>\n",
       "      <td>Our hours are Monday to Friday 10am to 8pm and...</td>\n",
       "      <td>Customer_Care_Store_Hours</td>\n",
       "      <td>0.220531</td>\n",
       "      <td>completed</td>\n",
       "      <td>NaN</td>\n",
       "      <td>{\"system\": {\"session_id\": \"04aa7771-37ba-4e8d-...</td>\n",
       "      <td>negative, -0.4695</td>\n",
       "      <td>{'neg': 0.0, 'neu': 1.0, 'pos': 0.0, 'compound...</td>\n",
       "      <td>negative, -0.3000</td>\n",
       "    </tr>\n",
       "    <tr>\n",
       "      <th>3</th>\n",
       "      <td>04aa7771-37ba-4e8d-a993-336899cc1ede</td>\n",
       "      <td>2021-07-07 18:34:38.932000+00:00</td>\n",
       "      <td>2021-07-07 18:34:39.076000+00:00</td>\n",
       "      <td>I want to cancel my order</td>\n",
       "      <td>I didn't understand can you try again</td>\n",
       "      <td>Cancel</td>\n",
       "      <td>0.545665</td>\n",
       "      <td>completed</td>\n",
       "      <td>NaN</td>\n",
       "      <td>{\"system\": {\"session_id\": \"04aa7771-37ba-4e8d-...</td>\n",
       "      <td>negative, -0.9401</td>\n",
       "      <td>{'neg': 0.274, 'neu': 0.548, 'pos': 0.178, 'co...</td>\n",
       "      <td>neutral, 0.0000</td>\n",
       "    </tr>\n",
       "    <tr>\n",
       "      <th>4</th>\n",
       "      <td>04aa7771-37ba-4e8d-a993-336899cc1ede</td>\n",
       "      <td>2021-07-07 18:34:45.975000+00:00</td>\n",
       "      <td>2021-07-07 18:34:46.051000+00:00</td>\n",
       "      <td>Connect to agent</td>\n",
       "      <td>Would you like me to transfer you to a represe...</td>\n",
       "      <td>General_Connect_to_Agent</td>\n",
       "      <td>0.983706</td>\n",
       "      <td>NaN</td>\n",
       "      <td>NaN</td>\n",
       "      <td>{\"system\": {\"session_id\": \"04aa7771-37ba-4e8d-...</td>\n",
       "      <td>negative, -0.2726</td>\n",
       "      <td>{'neg': 0.0, 'neu': 1.0, 'pos': 0.0, 'compound...</td>\n",
       "      <td>neutral, 0.0000</td>\n",
       "    </tr>\n",
       "  </tbody>\n",
       "</table>\n",
       "</div>"
      ],
      "text/plain": [
       "                        conversation_id                 request_timestamp  \\\n",
       "0  04aa7771-37ba-4e8d-a993-336899cc1ede         2021-07-07 18:33:47+00:00   \n",
       "1  04aa7771-37ba-4e8d-a993-336899cc1ede  2021-07-07 18:34:02.029000+00:00   \n",
       "2  04aa7771-37ba-4e8d-a993-336899cc1ede  2021-07-07 18:34:27.870000+00:00   \n",
       "3  04aa7771-37ba-4e8d-a993-336899cc1ede  2021-07-07 18:34:38.932000+00:00   \n",
       "4  04aa7771-37ba-4e8d-a993-336899cc1ede  2021-07-07 18:34:45.975000+00:00   \n",
       "\n",
       "                 response_timestamp                           User Input  \\\n",
       "0  2021-07-07 18:33:49.552000+00:00  what are the store's opening hours?   \n",
       "1  2021-07-07 18:34:02.106000+00:00  what are the store's opening hours?   \n",
       "2  2021-07-07 18:34:28.004000+00:00                  my delivery is late   \n",
       "3  2021-07-07 18:34:39.076000+00:00            I want to cancel my order   \n",
       "4  2021-07-07 18:34:46.051000+00:00                     Connect to agent   \n",
       "\n",
       "                                              Output  \\\n",
       "0  Our hours are Monday to Friday 10am to 8pm and...   \n",
       "1  I can tell you about our store locations and o...   \n",
       "2  Our hours are Monday to Friday 10am to 8pm and...   \n",
       "3              I didn't understand can you try again   \n",
       "4  Would you like me to transfer you to a represe...   \n",
       "\n",
       "                      Intent  Confidence Exit Reason  Logging  \\\n",
       "0  Customer_Care_Store_Hours    0.992556   completed      NaN   \n",
       "1                       Help    1.000000   completed      NaN   \n",
       "2  Customer_Care_Store_Hours    0.220531   completed      NaN   \n",
       "3                     Cancel    0.545665   completed      NaN   \n",
       "4   General_Connect_to_Agent    0.983706         NaN      NaN   \n",
       "\n",
       "                                             Context         model_pred  \\\n",
       "0  {\"system\": {\"dialog_turn_counter\": 1, \"dialog_...               None   \n",
       "1  {\"system\": {\"session_id\": \"04aa7771-37ba-4e8d-...               None   \n",
       "2  {\"system\": {\"session_id\": \"04aa7771-37ba-4e8d-...  negative, -0.4695   \n",
       "3  {\"system\": {\"session_id\": \"04aa7771-37ba-4e8d-...  negative, -0.9401   \n",
       "4  {\"system\": {\"session_id\": \"04aa7771-37ba-4e8d-...  negative, -0.2726   \n",
       "\n",
       "                                          vader_pred      textblob_pred  \n",
       "0                                               None               None  \n",
       "1                                               None               None  \n",
       "2  {'neg': 0.0, 'neu': 1.0, 'pos': 0.0, 'compound...  negative, -0.3000  \n",
       "3  {'neg': 0.274, 'neu': 0.548, 'pos': 0.178, 'co...    neutral, 0.0000  \n",
       "4  {'neg': 0.0, 'neu': 1.0, 'pos': 0.0, 'compound...    neutral, 0.0000  "
      ]
     },
     "execution_count": 108,
     "metadata": {},
     "output_type": "execute_result"
    }
   ],
   "source": [
    "chatbot_data.head()"
   ]
  },
  {
   "cell_type": "code",
   "execution_count": 118,
   "id": "40112d96",
   "metadata": {},
   "outputs": [],
   "source": [
    "chatbot_data.to_csv(\"Data/watson_data_pred_output_hybrid.csv\")"
   ]
  },
  {
   "cell_type": "markdown",
   "id": "979d82d6",
   "metadata": {},
   "source": [
    "### Testing on Yelp reviews dataset"
   ]
  },
  {
   "cell_type": "code",
   "execution_count": 57,
   "id": "9602aa32",
   "metadata": {},
   "outputs": [],
   "source": [
    "yelp_data = pd.read_csv(\"Data/yelp_review_polarity_csv/test.csv\")"
   ]
  },
  {
   "cell_type": "code",
   "execution_count": 58,
   "id": "b73a6d6a",
   "metadata": {},
   "outputs": [
    {
     "data": {
      "text/html": [
       "<div>\n",
       "<style scoped>\n",
       "    .dataframe tbody tr th:only-of-type {\n",
       "        vertical-align: middle;\n",
       "    }\n",
       "\n",
       "    .dataframe tbody tr th {\n",
       "        vertical-align: top;\n",
       "    }\n",
       "\n",
       "    .dataframe thead th {\n",
       "        text-align: right;\n",
       "    }\n",
       "</style>\n",
       "<table border=\"1\" class=\"dataframe\">\n",
       "  <thead>\n",
       "    <tr style=\"text-align: right;\">\n",
       "      <th></th>\n",
       "      <th>2</th>\n",
       "      <th>Contrary to other reviews, I have zero complaints about the service or the prices. I have been getting tire service here for the past 5 years now, and compared to my experience with places like Pep Boys, these guys are experienced and know what they're doing. \\nAlso, this is one place that I do not feel like I am being taken advantage of, just because of my gender. Other auto mechanics have been notorious for capitalizing on my ignorance of cars, and have sucked my bank account dry. But here, my service and road coverage has all been well explained - and let up to me to decide. \\nAnd they just renovated the waiting room. It looks a lot better than it did in previous years.</th>\n",
       "    </tr>\n",
       "  </thead>\n",
       "  <tbody>\n",
       "    <tr>\n",
       "      <th>0</th>\n",
       "      <td>1</td>\n",
       "      <td>Last summer I had an appointment to get new ti...</td>\n",
       "    </tr>\n",
       "    <tr>\n",
       "      <th>1</th>\n",
       "      <td>2</td>\n",
       "      <td>Friendly staff, same starbucks fair you get an...</td>\n",
       "    </tr>\n",
       "    <tr>\n",
       "      <th>2</th>\n",
       "      <td>1</td>\n",
       "      <td>The food is good. Unfortunately the service is...</td>\n",
       "    </tr>\n",
       "    <tr>\n",
       "      <th>3</th>\n",
       "      <td>2</td>\n",
       "      <td>Even when we didn't have a car Filene's Baseme...</td>\n",
       "    </tr>\n",
       "    <tr>\n",
       "      <th>4</th>\n",
       "      <td>2</td>\n",
       "      <td>Picture Billy Joel's \\\"Piano Man\\\" DOUBLED mix...</td>\n",
       "    </tr>\n",
       "  </tbody>\n",
       "</table>\n",
       "</div>"
      ],
      "text/plain": [
       "   2  \\\n",
       "0  1   \n",
       "1  2   \n",
       "2  1   \n",
       "3  2   \n",
       "4  2   \n",
       "\n",
       "  Contrary to other reviews, I have zero complaints about the service or the prices. I have been getting tire service here for the past 5 years now, and compared to my experience with places like Pep Boys, these guys are experienced and know what they're doing. \\nAlso, this is one place that I do not feel like I am being taken advantage of, just because of my gender. Other auto mechanics have been notorious for capitalizing on my ignorance of cars, and have sucked my bank account dry. But here, my service and road coverage has all been well explained - and let up to me to decide. \\nAnd they just renovated the waiting room. It looks a lot better than it did in previous years.  \n",
       "0  Last summer I had an appointment to get new ti...                                                                                                                                                                                                                                                                                                                                                                                                                                                                                                                                                                                                                                                         \n",
       "1  Friendly staff, same starbucks fair you get an...                                                                                                                                                                                                                                                                                                                                                                                                                                                                                                                                                                                                                                                         \n",
       "2  The food is good. Unfortunately the service is...                                                                                                                                                                                                                                                                                                                                                                                                                                                                                                                                                                                                                                                         \n",
       "3  Even when we didn't have a car Filene's Baseme...                                                                                                                                                                                                                                                                                                                                                                                                                                                                                                                                                                                                                                                         \n",
       "4  Picture Billy Joel's \\\"Piano Man\\\" DOUBLED mix...                                                                                                                                                                                                                                                                                                                                                                                                                                                                                                                                                                                                                                                         "
      ]
     },
     "execution_count": 58,
     "metadata": {},
     "output_type": "execute_result"
    }
   ],
   "source": [
    "yelp_data.head()"
   ]
  },
  {
   "cell_type": "code",
   "execution_count": 59,
   "id": "b244746e",
   "metadata": {},
   "outputs": [],
   "source": [
    "yelp_data.columns = ['sentiment', 'review']"
   ]
  },
  {
   "cell_type": "code",
   "execution_count": 60,
   "id": "496a9443",
   "metadata": {},
   "outputs": [],
   "source": [
    "yelp_data['sentiment'] = yelp_data['sentiment'].apply(lambda x: recode(x))"
   ]
  },
  {
   "cell_type": "code",
   "execution_count": 61,
   "id": "a440d864",
   "metadata": {},
   "outputs": [],
   "source": [
    "test_data3 = yelp_data.sample(sample_size)"
   ]
  },
  {
   "cell_type": "code",
   "execution_count": 62,
   "id": "a168e997",
   "metadata": {},
   "outputs": [],
   "source": [
    "test_data3['text_blob_polarity'] = test_data3['review'].apply(lambda x: TextBlob(x).polarity)\n",
    "test_data3['text_blob_polarity_round'] = test_data3['text_blob_polarity'].apply(lambda x: zero_one(x))"
   ]
  },
  {
   "cell_type": "code",
   "execution_count": 63,
   "id": "63687d7f",
   "metadata": {},
   "outputs": [],
   "source": [
    "sentiments3 = np.array(test_data3['sentiment'])\n",
    "textblob_pred = np.array(test_data3['text_blob_polarity_round'])"
   ]
  },
  {
   "cell_type": "code",
   "execution_count": 64,
   "id": "659528fd",
   "metadata": {},
   "outputs": [],
   "source": [
    "test_data3['vader_polarity'] = test_data3['review'].apply(lambda x: sentiment_polarity(x))\n",
    "test_data3['vader_polarity_round'] = test_data3['vader_polarity'].apply(lambda x: zero_one(x))"
   ]
  },
  {
   "cell_type": "code",
   "execution_count": 66,
   "id": "4d14bc5d",
   "metadata": {},
   "outputs": [],
   "source": [
    "test_data3['model_pred'] = test_data3['review'].apply(lambda x: class_predict(model, x, vocab_to_int, seq_length=seq_length))"
   ]
  },
  {
   "cell_type": "code",
   "execution_count": 67,
   "id": "1d088173",
   "metadata": {},
   "outputs": [
    {
     "name": "stdout",
     "output_type": "stream",
     "text": [
      "model acc score: 0.767\n",
      "Vader sentiment acc score: 0.710\n",
      "text blob final score: 0.687\n"
     ]
    }
   ],
   "source": [
    "print(\"model acc score: {:.3f}\".format(test_score(sentiments3, test_data3['model_pred'].to_list())))\n",
    "print(\"Vader sentiment acc score: {:.3f}\".format(test_score(sentiments3, test_data3['vader_polarity_round'].to_list())))\n",
    "print(\"text blob final score: {:.3f}\".format(test_score(sentiments3, textblob_pred)))"
   ]
  },
  {
   "cell_type": "markdown",
   "id": "1c345b07",
   "metadata": {},
   "source": [
    "#### Testing on Sentiment140 reviews dataset"
   ]
  },
  {
   "cell_type": "code",
   "execution_count": 69,
   "id": "aa712a87",
   "metadata": {},
   "outputs": [],
   "source": [
    "s140 = pd.read_csv(\"Data/Sentiment140/test.csv\")"
   ]
  },
  {
   "cell_type": "code",
   "execution_count": 70,
   "id": "cde00446",
   "metadata": {},
   "outputs": [
    {
     "data": {
      "text/html": [
       "<div>\n",
       "<style scoped>\n",
       "    .dataframe tbody tr th:only-of-type {\n",
       "        vertical-align: middle;\n",
       "    }\n",
       "\n",
       "    .dataframe tbody tr th {\n",
       "        vertical-align: top;\n",
       "    }\n",
       "\n",
       "    .dataframe thead th {\n",
       "        text-align: right;\n",
       "    }\n",
       "</style>\n",
       "<table border=\"1\" class=\"dataframe\">\n",
       "  <thead>\n",
       "    <tr style=\"text-align: right;\">\n",
       "      <th></th>\n",
       "      <th>4</th>\n",
       "      <th>3</th>\n",
       "      <th>Mon May 11 03:17:40 UTC 2009</th>\n",
       "      <th>kindle2</th>\n",
       "      <th>tpryan</th>\n",
       "      <th>@stellargirl I loooooooovvvvvveee my Kindle2. Not that the DX is cool, but the 2 is fantastic in its own right.</th>\n",
       "    </tr>\n",
       "  </thead>\n",
       "  <tbody>\n",
       "    <tr>\n",
       "      <th>0</th>\n",
       "      <td>4</td>\n",
       "      <td>4</td>\n",
       "      <td>Mon May 11 03:18:03 UTC 2009</td>\n",
       "      <td>kindle2</td>\n",
       "      <td>vcu451</td>\n",
       "      <td>Reading my kindle2...  Love it... Lee childs i...</td>\n",
       "    </tr>\n",
       "    <tr>\n",
       "      <th>1</th>\n",
       "      <td>4</td>\n",
       "      <td>5</td>\n",
       "      <td>Mon May 11 03:18:54 UTC 2009</td>\n",
       "      <td>kindle2</td>\n",
       "      <td>chadfu</td>\n",
       "      <td>Ok, first assesment of the #kindle2 ...it fuck...</td>\n",
       "    </tr>\n",
       "    <tr>\n",
       "      <th>2</th>\n",
       "      <td>4</td>\n",
       "      <td>6</td>\n",
       "      <td>Mon May 11 03:19:04 UTC 2009</td>\n",
       "      <td>kindle2</td>\n",
       "      <td>SIX15</td>\n",
       "      <td>@kenburbary You'll love your Kindle2. I've had...</td>\n",
       "    </tr>\n",
       "    <tr>\n",
       "      <th>3</th>\n",
       "      <td>4</td>\n",
       "      <td>7</td>\n",
       "      <td>Mon May 11 03:21:41 UTC 2009</td>\n",
       "      <td>kindle2</td>\n",
       "      <td>yamarama</td>\n",
       "      <td>@mikefish  Fair enough. But i have the Kindle2...</td>\n",
       "    </tr>\n",
       "    <tr>\n",
       "      <th>4</th>\n",
       "      <td>4</td>\n",
       "      <td>8</td>\n",
       "      <td>Mon May 11 03:22:00 UTC 2009</td>\n",
       "      <td>kindle2</td>\n",
       "      <td>GeorgeVHulme</td>\n",
       "      <td>@richardebaker no. it is too big. I'm quite ha...</td>\n",
       "    </tr>\n",
       "  </tbody>\n",
       "</table>\n",
       "</div>"
      ],
      "text/plain": [
       "   4  3  Mon May 11 03:17:40 UTC 2009  kindle2        tpryan  \\\n",
       "0  4  4  Mon May 11 03:18:03 UTC 2009  kindle2        vcu451   \n",
       "1  4  5  Mon May 11 03:18:54 UTC 2009  kindle2        chadfu   \n",
       "2  4  6  Mon May 11 03:19:04 UTC 2009  kindle2         SIX15   \n",
       "3  4  7  Mon May 11 03:21:41 UTC 2009  kindle2      yamarama   \n",
       "4  4  8  Mon May 11 03:22:00 UTC 2009  kindle2  GeorgeVHulme   \n",
       "\n",
       "  @stellargirl I loooooooovvvvvveee my Kindle2. Not that the DX is cool, but the 2 is fantastic in its own right.  \n",
       "0  Reading my kindle2...  Love it... Lee childs i...                                                               \n",
       "1  Ok, first assesment of the #kindle2 ...it fuck...                                                               \n",
       "2  @kenburbary You'll love your Kindle2. I've had...                                                               \n",
       "3  @mikefish  Fair enough. But i have the Kindle2...                                                               \n",
       "4  @richardebaker no. it is too big. I'm quite ha...                                                               "
      ]
     },
     "execution_count": 70,
     "metadata": {},
     "output_type": "execute_result"
    }
   ],
   "source": [
    "s140.head()"
   ]
  },
  {
   "cell_type": "code",
   "execution_count": 71,
   "id": "1761ac09",
   "metadata": {},
   "outputs": [],
   "source": [
    "s140.columns = ['polarity', 'id', 'date', 'query', 'user', 'tweet']"
   ]
  },
  {
   "cell_type": "code",
   "execution_count": 72,
   "id": "7ed77aeb",
   "metadata": {},
   "outputs": [
    {
     "data": {
      "text/html": [
       "<div>\n",
       "<style scoped>\n",
       "    .dataframe tbody tr th:only-of-type {\n",
       "        vertical-align: middle;\n",
       "    }\n",
       "\n",
       "    .dataframe tbody tr th {\n",
       "        vertical-align: top;\n",
       "    }\n",
       "\n",
       "    .dataframe thead th {\n",
       "        text-align: right;\n",
       "    }\n",
       "</style>\n",
       "<table border=\"1\" class=\"dataframe\">\n",
       "  <thead>\n",
       "    <tr style=\"text-align: right;\">\n",
       "      <th></th>\n",
       "      <th>polarity</th>\n",
       "      <th>id</th>\n",
       "      <th>date</th>\n",
       "      <th>query</th>\n",
       "      <th>user</th>\n",
       "      <th>tweet</th>\n",
       "    </tr>\n",
       "  </thead>\n",
       "  <tbody>\n",
       "    <tr>\n",
       "      <th>0</th>\n",
       "      <td>4</td>\n",
       "      <td>4</td>\n",
       "      <td>Mon May 11 03:18:03 UTC 2009</td>\n",
       "      <td>kindle2</td>\n",
       "      <td>vcu451</td>\n",
       "      <td>Reading my kindle2...  Love it... Lee childs i...</td>\n",
       "    </tr>\n",
       "    <tr>\n",
       "      <th>1</th>\n",
       "      <td>4</td>\n",
       "      <td>5</td>\n",
       "      <td>Mon May 11 03:18:54 UTC 2009</td>\n",
       "      <td>kindle2</td>\n",
       "      <td>chadfu</td>\n",
       "      <td>Ok, first assesment of the #kindle2 ...it fuck...</td>\n",
       "    </tr>\n",
       "    <tr>\n",
       "      <th>2</th>\n",
       "      <td>4</td>\n",
       "      <td>6</td>\n",
       "      <td>Mon May 11 03:19:04 UTC 2009</td>\n",
       "      <td>kindle2</td>\n",
       "      <td>SIX15</td>\n",
       "      <td>@kenburbary You'll love your Kindle2. I've had...</td>\n",
       "    </tr>\n",
       "    <tr>\n",
       "      <th>3</th>\n",
       "      <td>4</td>\n",
       "      <td>7</td>\n",
       "      <td>Mon May 11 03:21:41 UTC 2009</td>\n",
       "      <td>kindle2</td>\n",
       "      <td>yamarama</td>\n",
       "      <td>@mikefish  Fair enough. But i have the Kindle2...</td>\n",
       "    </tr>\n",
       "    <tr>\n",
       "      <th>4</th>\n",
       "      <td>4</td>\n",
       "      <td>8</td>\n",
       "      <td>Mon May 11 03:22:00 UTC 2009</td>\n",
       "      <td>kindle2</td>\n",
       "      <td>GeorgeVHulme</td>\n",
       "      <td>@richardebaker no. it is too big. I'm quite ha...</td>\n",
       "    </tr>\n",
       "  </tbody>\n",
       "</table>\n",
       "</div>"
      ],
      "text/plain": [
       "   polarity  id                          date    query          user  \\\n",
       "0         4   4  Mon May 11 03:18:03 UTC 2009  kindle2        vcu451   \n",
       "1         4   5  Mon May 11 03:18:54 UTC 2009  kindle2        chadfu   \n",
       "2         4   6  Mon May 11 03:19:04 UTC 2009  kindle2         SIX15   \n",
       "3         4   7  Mon May 11 03:21:41 UTC 2009  kindle2      yamarama   \n",
       "4         4   8  Mon May 11 03:22:00 UTC 2009  kindle2  GeorgeVHulme   \n",
       "\n",
       "                                               tweet  \n",
       "0  Reading my kindle2...  Love it... Lee childs i...  \n",
       "1  Ok, first assesment of the #kindle2 ...it fuck...  \n",
       "2  @kenburbary You'll love your Kindle2. I've had...  \n",
       "3  @mikefish  Fair enough. But i have the Kindle2...  \n",
       "4  @richardebaker no. it is too big. I'm quite ha...  "
      ]
     },
     "execution_count": 72,
     "metadata": {},
     "output_type": "execute_result"
    }
   ],
   "source": [
    "s140.head()"
   ]
  },
  {
   "cell_type": "code",
   "execution_count": 73,
   "id": "99a783a2",
   "metadata": {},
   "outputs": [],
   "source": [
    "s140 = s140[s140['polarity'] != 2]"
   ]
  },
  {
   "cell_type": "code",
   "execution_count": 74,
   "id": "8a6634f0",
   "metadata": {},
   "outputs": [],
   "source": [
    "s140['polarity'] = s140['polarity'].apply(lambda x: recode_s140(x))"
   ]
  },
  {
   "cell_type": "code",
   "execution_count": 75,
   "id": "75b32a47",
   "metadata": {},
   "outputs": [
    {
     "data": {
      "text/html": [
       "<div>\n",
       "<style scoped>\n",
       "    .dataframe tbody tr th:only-of-type {\n",
       "        vertical-align: middle;\n",
       "    }\n",
       "\n",
       "    .dataframe tbody tr th {\n",
       "        vertical-align: top;\n",
       "    }\n",
       "\n",
       "    .dataframe thead th {\n",
       "        text-align: right;\n",
       "    }\n",
       "</style>\n",
       "<table border=\"1\" class=\"dataframe\">\n",
       "  <thead>\n",
       "    <tr style=\"text-align: right;\">\n",
       "      <th></th>\n",
       "      <th>polarity</th>\n",
       "      <th>id</th>\n",
       "      <th>date</th>\n",
       "      <th>query</th>\n",
       "      <th>user</th>\n",
       "      <th>tweet</th>\n",
       "    </tr>\n",
       "  </thead>\n",
       "  <tbody>\n",
       "    <tr>\n",
       "      <th>0</th>\n",
       "      <td>1</td>\n",
       "      <td>4</td>\n",
       "      <td>Mon May 11 03:18:03 UTC 2009</td>\n",
       "      <td>kindle2</td>\n",
       "      <td>vcu451</td>\n",
       "      <td>Reading my kindle2...  Love it... Lee childs i...</td>\n",
       "    </tr>\n",
       "    <tr>\n",
       "      <th>1</th>\n",
       "      <td>1</td>\n",
       "      <td>5</td>\n",
       "      <td>Mon May 11 03:18:54 UTC 2009</td>\n",
       "      <td>kindle2</td>\n",
       "      <td>chadfu</td>\n",
       "      <td>Ok, first assesment of the #kindle2 ...it fuck...</td>\n",
       "    </tr>\n",
       "    <tr>\n",
       "      <th>2</th>\n",
       "      <td>1</td>\n",
       "      <td>6</td>\n",
       "      <td>Mon May 11 03:19:04 UTC 2009</td>\n",
       "      <td>kindle2</td>\n",
       "      <td>SIX15</td>\n",
       "      <td>@kenburbary You'll love your Kindle2. I've had...</td>\n",
       "    </tr>\n",
       "    <tr>\n",
       "      <th>3</th>\n",
       "      <td>1</td>\n",
       "      <td>7</td>\n",
       "      <td>Mon May 11 03:21:41 UTC 2009</td>\n",
       "      <td>kindle2</td>\n",
       "      <td>yamarama</td>\n",
       "      <td>@mikefish  Fair enough. But i have the Kindle2...</td>\n",
       "    </tr>\n",
       "    <tr>\n",
       "      <th>4</th>\n",
       "      <td>1</td>\n",
       "      <td>8</td>\n",
       "      <td>Mon May 11 03:22:00 UTC 2009</td>\n",
       "      <td>kindle2</td>\n",
       "      <td>GeorgeVHulme</td>\n",
       "      <td>@richardebaker no. it is too big. I'm quite ha...</td>\n",
       "    </tr>\n",
       "  </tbody>\n",
       "</table>\n",
       "</div>"
      ],
      "text/plain": [
       "   polarity  id                          date    query          user  \\\n",
       "0         1   4  Mon May 11 03:18:03 UTC 2009  kindle2        vcu451   \n",
       "1         1   5  Mon May 11 03:18:54 UTC 2009  kindle2        chadfu   \n",
       "2         1   6  Mon May 11 03:19:04 UTC 2009  kindle2         SIX15   \n",
       "3         1   7  Mon May 11 03:21:41 UTC 2009  kindle2      yamarama   \n",
       "4         1   8  Mon May 11 03:22:00 UTC 2009  kindle2  GeorgeVHulme   \n",
       "\n",
       "                                               tweet  \n",
       "0  Reading my kindle2...  Love it... Lee childs i...  \n",
       "1  Ok, first assesment of the #kindle2 ...it fuck...  \n",
       "2  @kenburbary You'll love your Kindle2. I've had...  \n",
       "3  @mikefish  Fair enough. But i have the Kindle2...  \n",
       "4  @richardebaker no. it is too big. I'm quite ha...  "
      ]
     },
     "execution_count": 75,
     "metadata": {},
     "output_type": "execute_result"
    }
   ],
   "source": [
    "s140.head()"
   ]
  },
  {
   "cell_type": "code",
   "execution_count": 76,
   "id": "83f306e1",
   "metadata": {},
   "outputs": [],
   "source": [
    "from string import punctuation\n",
    "\n",
    "def preprocess_tweet(tweet: str) -> str:\n",
    "    return ''.join(c for c in tweet if c not in punctuation)"
   ]
  },
  {
   "cell_type": "code",
   "execution_count": 79,
   "id": "69ed618a",
   "metadata": {},
   "outputs": [
    {
     "data": {
      "text/plain": [
       "'kenburbary Youll love your Kindle2 Ive had mine for a few months and never looked back The new big one is huge No need for remorse '"
      ]
     },
     "execution_count": 79,
     "metadata": {},
     "output_type": "execute_result"
    }
   ],
   "source": [
    "preprocess_tweet(t)"
   ]
  },
  {
   "cell_type": "code",
   "execution_count": 80,
   "id": "c3a47127",
   "metadata": {},
   "outputs": [],
   "source": [
    "s140['preprocessed_tweet'] = s140['tweet'].apply(lambda x: preprocess_tweet(x))"
   ]
  },
  {
   "cell_type": "code",
   "execution_count": 81,
   "id": "416b35fc",
   "metadata": {},
   "outputs": [],
   "source": [
    "s140['text_blob_polarity'] = s140['preprocessed_tweet'].apply(lambda x: TextBlob(x).polarity)\n",
    "s140['text_blob_polarity_round'] = s140['text_blob_polarity'].apply(lambda x: zero_one(x))"
   ]
  },
  {
   "cell_type": "code",
   "execution_count": 82,
   "id": "ab3958ee",
   "metadata": {},
   "outputs": [],
   "source": [
    "sentiments4 = np.array(s140['polarity'])\n",
    "textblob_pred = np.array(s140['text_blob_polarity_round'])"
   ]
  },
  {
   "cell_type": "code",
   "execution_count": 83,
   "id": "e7b962c2",
   "metadata": {},
   "outputs": [],
   "source": [
    "s140['vader_polarity'] = s140['preprocessed_tweet'].apply(lambda x: sentiment_polarity(x))\n",
    "s140['vader_polarity_round'] = s140['vader_polarity'].apply(lambda x: zero_one(x))"
   ]
  },
  {
   "cell_type": "code",
   "execution_count": 86,
   "id": "fd1d31c1",
   "metadata": {},
   "outputs": [],
   "source": [
    "s140['model_pred'] = s140['preprocessed_tweet'].apply(lambda x: class_predict(model, x, vocab_to_int, seq_length=seq_length))"
   ]
  },
  {
   "cell_type": "code",
   "execution_count": 87,
   "id": "cc49c8cd",
   "metadata": {},
   "outputs": [
    {
     "name": "stdout",
     "output_type": "stream",
     "text": [
      "model acc score: 0.763\n",
      "Vader sentiment acc score: 0.791\n",
      "text blob final score: 0.715\n"
     ]
    }
   ],
   "source": [
    "print(\"model acc score: {:.3f}\".format(test_score(sentiments4, s140['model_pred'].to_list())))\n",
    "print(\"Vader sentiment acc score: {:.3f}\".format(test_score(sentiments4, s140['vader_polarity_round'].to_list())))\n",
    "print(\"text blob final score: {:.3f}\".format(test_score(sentiments4, textblob_pred)))"
   ]
  },
  {
   "cell_type": "code",
   "execution_count": 88,
   "id": "d1f3296b",
   "metadata": {},
   "outputs": [],
   "source": [
    "s140[['polarity', 'preprocessed_tweet','text_blob_polarity', 'text_blob_polarity_round', 'vader_polarity', 'vader_polarity_round', 'model_pred']].to_csv(\"s140_pred_output.csv\")"
   ]
  },
  {
   "cell_type": "code",
   "execution_count": null,
   "id": "a48e2df3",
   "metadata": {},
   "outputs": [],
   "source": []
  }
 ],
 "metadata": {
  "kernelspec": {
   "display_name": "Python 3 (ipykernel)",
   "language": "python",
   "name": "python3"
  },
  "language_info": {
   "codemirror_mode": {
    "name": "ipython",
    "version": 3
   },
   "file_extension": ".py",
   "mimetype": "text/x-python",
   "name": "python",
   "nbconvert_exporter": "python",
   "pygments_lexer": "ipython3",
   "version": "3.9.7"
  }
 },
 "nbformat": 4,
 "nbformat_minor": 5
}
